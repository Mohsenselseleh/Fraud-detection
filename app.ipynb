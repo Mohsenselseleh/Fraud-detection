{
  "nbformat": 4,
  "nbformat_minor": 0,
  "metadata": {
    "colab": {
      "provenance": []
    },
    "kernelspec": {
      "name": "python3",
      "display_name": "Python 3"
    },
    "language_info": {
      "name": "python"
    }
  },
  "cells": [
    {
      "cell_type": "code",
      "execution_count": null,
      "metadata": {
        "id": "3Ptte6JZ9kGn"
      },
      "outputs": [],
      "source": [
        "# app.py\n",
        "import streamlit as st\n",
        "import pandas as pd\n",
        "import numpy as np\n",
        "from sklearn.metrics import confusion_matrix\n",
        "import joblib\n",
        "\n",
        "# Load model and data\n",
        "xgb = joblib.load(\"xgb_model.pkl\")\n",
        "X_test = pd.read_csv(\"X_test.csv\")\n",
        "y_test = pd.read_csv(\"y_test.csv\").values.ravel()\n",
        "\n",
        "# Get prediction probabilities\n",
        "probs = xgb.predict_proba(X_test)[:, 1]\n",
        "\n",
        "# Cost function\n",
        "def fraud_cost(tp, fp, fn, tn):\n",
        "    return tp*100 + fp*(-10) + fn*(-200)\n",
        "\n",
        "# Streamlit UI\n",
        "st.title(\"💰 Fraud Detection Threshold Simulator\")\n",
        "\n",
        "threshold = st.slider(\"Select threshold\", 0.0, 1.0, 0.5)\n",
        "preds = (probs >= threshold).astype(int)\n",
        "tn, fp, fn, tp = confusion_matrix(y_test, preds).ravel()\n",
        "\n",
        "cost = fraud_cost(tp, fp, fn, tn)\n",
        "\n",
        "st.metric(\"📊 Total Cost\", f\"${cost}\")\n",
        "st.write(\"✅ True Positives:\", tp)\n",
        "st.write(\"❌ False Positives:\", fp)\n",
        "st.write(\"🧨 False Negatives:\", fn)\n",
        "st.write(\"🟢 True Negatives:\", tn)\n"
      ]
    }
  ]
}